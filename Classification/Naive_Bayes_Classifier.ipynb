{
  "nbformat": 4,
  "nbformat_minor": 0,
  "metadata": {
    "colab": {
      "name": "Naive-Bayes-Classifier.ipynb",
      "provenance": [],
      "collapsed_sections": []
    },
    "kernelspec": {
      "name": "python3",
      "display_name": "Python 3"
    }
  },
  "cells": [
    {
      "cell_type": "markdown",
      "metadata": {
        "id": "nkt1VSWOD1qG"
      },
      "source": [
        "# **Naive Bayes classifier for multinomial models**"
      ]
    },
    {
      "cell_type": "code",
      "metadata": {
        "colab": {
          "base_uri": "https://localhost:8080/"
        },
        "id": "oQXybnchD1qO",
        "outputId": "52b407f7-0fc3-4651-ce73-54f4e5c4097e"
      },
      "source": [
        "from sklearn.datasets import fetch_20newsgroups\n",
        "\n",
        "data = fetch_20newsgroups()\n",
        "data.target_names"
      ],
      "execution_count": 1,
      "outputs": [
        {
          "output_type": "stream",
          "text": [
            "Downloading 20news dataset. This may take a few minutes.\n",
            "Downloading dataset from https://ndownloader.figshare.com/files/5975967 (14 MB)\n"
          ],
          "name": "stderr"
        },
        {
          "output_type": "execute_result",
          "data": {
            "text/plain": [
              "['alt.atheism',\n",
              " 'comp.graphics',\n",
              " 'comp.os.ms-windows.misc',\n",
              " 'comp.sys.ibm.pc.hardware',\n",
              " 'comp.sys.mac.hardware',\n",
              " 'comp.windows.x',\n",
              " 'misc.forsale',\n",
              " 'rec.autos',\n",
              " 'rec.motorcycles',\n",
              " 'rec.sport.baseball',\n",
              " 'rec.sport.hockey',\n",
              " 'sci.crypt',\n",
              " 'sci.electronics',\n",
              " 'sci.med',\n",
              " 'sci.space',\n",
              " 'soc.religion.christian',\n",
              " 'talk.politics.guns',\n",
              " 'talk.politics.mideast',\n",
              " 'talk.politics.misc',\n",
              " 'talk.religion.misc']"
            ]
          },
          "metadata": {
            "tags": []
          },
          "execution_count": 1
        }
      ]
    },
    {
      "cell_type": "code",
      "metadata": {
        "id": "ob8QMe9WD1qP"
      },
      "source": [
        "categories = ['talk.politics.misc', 'talk.religion.misc', 'sci.med', 'sci.space', 'rec.autos']\n",
        "train = fetch_20newsgroups(subset='train', categories=categories)\n",
        "test = fetch_20newsgroups(subset='test', categories=categories)"
      ],
      "execution_count": 2,
      "outputs": []
    },
    {
      "cell_type": "code",
      "metadata": {
        "colab": {
          "base_uri": "https://localhost:8080/"
        },
        "id": "TR7P2JR0D1qP",
        "outputId": "3aabd00a-86ca-4f86-b62f-4bcfb8357f18"
      },
      "source": [
        "print(train.data[5])"
      ],
      "execution_count": 3,
      "outputs": [
        {
          "output_type": "stream",
          "text": [
            "From: rts@nwu.edu (Ted Schreiber)\n",
            "Subject: Opinions on recent Alfa Spiders\n",
            "Nntp-Posting-Host: mac178.mech.nwu.edu\n",
            "Organization: Mechanical Engineering\n",
            "Lines: 15\n",
            "\n",
            "Anyone have any opinions on fairly recent model Alfa Spiders ( 86-> ) \n",
            "\n",
            "Reliablilty for what their class ( I'm not talking Alfa vs. Toyota corrola\n",
            "which is more relaible ) \n",
            "\n",
            "As far as I can discern, in recent years, there are 3 levels with all\n",
            "basically the same mechanical aspects.\n",
            "\n",
            "Please email any responses \n",
            "\n",
            "\n",
            "Ted Schreiber\n",
            "Mechanical Enginering \n",
            "Northwestern University\n",
            "Tel: 708.491.5386 FAX 708.491.3915 Email: rts@nwu.edu\n",
            "\n"
          ],
          "name": "stdout"
        }
      ]
    },
    {
      "cell_type": "code",
      "metadata": {
        "colab": {
          "base_uri": "https://localhost:8080/"
        },
        "id": "-CElEapOD1qQ",
        "outputId": "f4c8f4c7-d043-4733-e41d-5a45f3b3f68b"
      },
      "source": [
        "print(train.data[15])"
      ],
      "execution_count": 4,
      "outputs": [
        {
          "output_type": "stream",
          "text": [
            "From: gnb@leo.bby.com.au (Gregory N. Bond)\n",
            "Subject: Re: Why not give $1 billion to first year-long moon residents?\n",
            "In-Reply-To: gene@theporch.raider.net's message of Sun, 18 Apr 1993 19:29:40 GMT\n",
            "Nntp-Posting-Host: leo-gw\n",
            "Organization: Burdett, Buckeridge & Young, Melbourne, Australia\n",
            "Lines: 32\n",
            "\n",
            "In article <6ZV82B2w165w@theporch.raider.net> gene@theporch.raider.net (Gene Wright) writes:\n",
            "\n",
            "   Announce that a reward of $1 billion would go to the first corporation \n",
            "   who successfully keeps at least 1 person alive on the moon for a\n",
            "   year. \n",
            "\n",
            "And with $1B on offer, the problem of \"keeping them alive\" is highly\n",
            "likely to involve more than just the lunar environment! \n",
            "\n",
            "\"Oh Dear, my freighter just landed on the roof of ACME's base and they\n",
            "all died.  How sad.  Gosh, that leaves us as the oldest residents.\"\n",
            "\n",
            "\"Quick Boss, the slime from YoyoDyne are back, and this time they've\n",
            "got a tank!  Man the guns!\"\n",
            "\n",
            "One could imagine all sorts of technologies being developed in that\n",
            "sort of environment.....\n",
            "\n",
            "Greg.\n",
            "\n",
            "(I'm kidding, BTW, although the problem of winner-takes-all prizes is\n",
            "that it encourages all sorts of undesirable behaviour - witness\n",
            "military procurement programs.  And $1b is probably far too small a\n",
            "reward to encourage what would be a very expensive and high risk\n",
            "proposition.)\n",
            "\n",
            "\n",
            "--\n",
            "Gregory Bond <gnb@bby.com.au> Burdett Buckeridge & Young Ltd Melbourne Australia\n",
            "   Knox's 386 is slick.            Fox in Sox, on Knox's Box\n",
            "   Knox's box is very quick.       Plays lots of LSL. He's sick!\n",
            "(Apologies to John \"Iron Bar\" Mackin.)\n",
            "\n"
          ],
          "name": "stdout"
        }
      ]
    },
    {
      "cell_type": "markdown",
      "metadata": {
        "id": "f6FuOafSD1qQ"
      },
      "source": [
        "To use the text data for machine learning we need to convert each string into a vector of numbers. For this, I will be using tf-idf vectorizer and I will create a pipeline that attaches the tf-idf vector to a multinomial naive Bayes classifier. "
      ]
    },
    {
      "cell_type": "code",
      "metadata": {
        "id": "Q773td3zD1qR"
      },
      "source": [
        "from sklearn.feature_extraction.text import TfidfVectorizer\n",
        "from sklearn.naive_bayes import MultinomialNB\n",
        "from sklearn.pipeline import make_pipeline\n",
        "\n",
        "model = make_pipeline(TfidfVectorizer(), MultinomialNB(alpha=1))"
      ],
      "execution_count": 5,
      "outputs": []
    },
    {
      "cell_type": "code",
      "metadata": {
        "id": "EOlIimCMD1qS"
      },
      "source": [
        "model.fit(train.data, train.target)\n",
        "labels = model.predict(test.data)"
      ],
      "execution_count": 6,
      "outputs": []
    },
    {
      "cell_type": "code",
      "metadata": {
        "colab": {
          "base_uri": "https://localhost:8080/",
          "height": 355
        },
        "id": "uEVnk_ALD1qS",
        "outputId": "69eb5222-d8af-4a62-99e5-8bfc99f0b940"
      },
      "source": [
        "from sklearn.metrics import confusion_matrix\n",
        "import seaborn as sns \n",
        "import matplotlib.pyplot as plt\n",
        "import numpy as np\n",
        "\n",
        "conf_mat = confusion_matrix(test.target, labels, normalize=\"true\")\n",
        "\n",
        "sns.heatmap(conf_mat.T, annot=True, fmt=\".0%\", cmap=\"cividis\", xticklabels=train.target_names, yticklabels=train.target_names)\n",
        "plt.xlabel(\"True label\")\n",
        "plt.ylabel(\"Predicted label\");"
      ],
      "execution_count": 7,
      "outputs": [
        {
          "output_type": "display_data",
          "data": {
            "image/png": "[encoded data removed]",
            "text/plain": [
              "<Figure size 432x288 with 2 Axes>"
            ]
          },
          "metadata": {
            "tags": [],
            "needs_background": "light"
          }
        }
      ]
    },
    {
      "cell_type": "code",
      "metadata": {
        "id": "2en1lnI-D1qT"
      },
      "source": [
        ""
      ],
      "execution_count": 7,
      "outputs": []
    }
  ]
}